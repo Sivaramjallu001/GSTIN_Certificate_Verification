{
  "nbformat": 4,
  "nbformat_minor": 0,
  "metadata": {
    "colab": {
      "provenance": [],
      "authorship_tag": "ABX9TyMpqJOcNvmR6d2GZcP1yI+D",
      "include_colab_link": true
    },
    "kernelspec": {
      "name": "python3",
      "display_name": "Python 3"
    },
    "language_info": {
      "name": "python"
    }
  },
  "cells": [
    {
      "cell_type": "markdown",
      "metadata": {
        "id": "view-in-github",
        "colab_type": "text"
      },
      "source": [
        "<a href=\"https://colab.research.google.com/github/Sivaramjallu001/GSTIN_Certificate_Verification/blob/main/Signature_2.ipynb\" target=\"_parent\"><img src=\"https://colab.research.google.com/assets/colab-badge.svg\" alt=\"Open In Colab\"/></a>"
      ]
    },
    {
      "cell_type": "code",
      "source": [
        "# Install pytesseract and Tesseract OCR engine\n",
        "!apt-get install -y tesseract-ocr\n",
        "!pip install pytesseract pillow\n"
      ],
      "metadata": {
        "colab": {
          "base_uri": "https://localhost:8080/"
        },
        "id": "7GV0s5EN3Rdm",
        "outputId": "cbc990b2-5e26-4976-bb80-72270e7c10a0"
      },
      "execution_count": 1,
      "outputs": [
        {
          "output_type": "stream",
          "name": "stdout",
          "text": [
            "Reading package lists... Done\n",
            "Building dependency tree... Done\n",
            "Reading state information... Done\n",
            "tesseract-ocr is already the newest version (4.1.1-2.1build1).\n",
            "0 upgraded, 0 newly installed, 0 to remove and 35 not upgraded.\n",
            "Collecting pytesseract\n",
            "  Downloading pytesseract-0.3.13-py3-none-any.whl.metadata (11 kB)\n",
            "Requirement already satisfied: pillow in /usr/local/lib/python3.11/dist-packages (11.2.1)\n",
            "Requirement already satisfied: packaging>=21.3 in /usr/local/lib/python3.11/dist-packages (from pytesseract) (24.2)\n",
            "Downloading pytesseract-0.3.13-py3-none-any.whl (14 kB)\n",
            "Installing collected packages: pytesseract\n",
            "Successfully installed pytesseract-0.3.13\n"
          ]
        }
      ]
    },
    {
      "cell_type": "code",
      "source": [
        "import cv2\n",
        "import pytesseract\n",
        "\n",
        "# Load image and preprocess\n",
        "def preprocess(image_path):\n",
        "    img = cv2.imread(image_path)\n",
        "    gray = cv2.cvtColor(img, cv2.COLOR_BGR2GRAY)\n",
        "    gray = cv2.resize(gray, None, fx=2, fy=2, interpolation=cv2.INTER_LINEAR)\n",
        "    _, thresh = cv2.threshold(gray, 0, 255, cv2.THRESH_BINARY + cv2.THRESH_OTSU)\n",
        "    return img, thresh\n",
        "\n",
        "# Extract coordinates for keywords\n",
        "def extract_signature_keywords(thresh_img):\n",
        "    data = pytesseract.image_to_data(thresh_img, output_type=pytesseract.Output.DICT)\n",
        "    keywords = [\"goods\", \"digitally\", \"verified\"]\n",
        "    boxes = {}\n",
        "\n",
        "    for i, word in enumerate(data['text']):\n",
        "        word_clean = word.strip().lower()\n",
        "        for key in keywords:\n",
        "            if key in word_clean:\n",
        "                x, y, w, h = data['left'][i], data['top'][i], data['width'][i], data['height'][i]\n",
        "                boxes[key] = (x, y, w, h)\n",
        "    return boxes\n",
        "\n",
        "# Compare bounding box coordinates with reference\n",
        "def compare_positions(ref_boxes, test_boxes, tolerance=500):\n",
        "    for key in ref_boxes:\n",
        "        if key not in test_boxes:\n",
        "            print(f\"❌ Keyword '{key}' not found in test image.\")\n",
        "            return False\n",
        "        rx, ry, _, _ = ref_boxes[key]\n",
        "        tx, ty, _, _ = test_boxes[key]\n",
        "        if abs(rx - tx) > tolerance or abs(ry - ty) > tolerance:\n",
        "            print(f\"❌ Keyword '{key}' misaligned: Ref ({rx},{ry}) vs Test ({tx},{ty})\")\n",
        "            return False\n",
        "    print(\"✅ All key signature elements are aligned correctly.\")\n",
        "    return True\n",
        "\n",
        "# ---------- Run the Comparison ----------\n",
        "# Reference image: a known valid GSTIN certificate\n",
        "ref_img_path = \"/content/gst_certificate.jpeg\"\n",
        "test_img_path = \"/content/WhatsApp Image 2025-05-30 at 15.27.00.jpeg\"\n",
        "\n",
        "ref_img, ref_thresh = preprocess(ref_img_path)\n",
        "test_img, test_thresh = preprocess(test_img_path)\n",
        "\n",
        "ref_boxes = extract_signature_keywords(ref_thresh)\n",
        "test_boxes = extract_signature_keywords(test_thresh)\n",
        "\n",
        "compare_positions(ref_boxes, test_boxes)\n"
      ],
      "metadata": {
        "colab": {
          "base_uri": "https://localhost:8080/"
        },
        "id": "AjLHxonBI6F0",
        "outputId": "a16b08ea-2287-46b6-81b7-7aeb9d3df99a"
      },
      "execution_count": 30,
      "outputs": [
        {
          "output_type": "stream",
          "name": "stdout",
          "text": [
            "✅ All key signature elements are aligned correctly.\n"
          ]
        },
        {
          "output_type": "execute_result",
          "data": {
            "text/plain": [
              "True"
            ]
          },
          "metadata": {},
          "execution_count": 30
        }
      ]
    },
    {
      "cell_type": "code",
      "source": [
        "from PIL import Image\n",
        "\n",
        "# Convert to JPEG (one-time)\n",
        "im = Image.open(\"/content/2.webp\")\n",
        "im.convert(\"RGB\").save(\"/content/2_converted.jpg\", \"JPEG\")\n",
        "test_img_path = \"/content/2_converted.jpg\"\n"
      ],
      "metadata": {
        "id": "jq537w6VOneQ"
      },
      "execution_count": 33,
      "outputs": []
    },
    {
      "cell_type": "code",
      "source": [
        "ref_img_path = \"/content/WhatsApp Image 2025-05-30 at 15.27.00.jpeg\"\n",
        "\n",
        "ref_img, ref_thresh = preprocess(ref_img_path)\n",
        "test_img, test_thresh = preprocess(test_img_path)\n",
        "\n",
        "ref_boxes = extract_signature_keywords(ref_thresh)\n",
        "test_boxes = extract_signature_keywords(test_thresh)\n",
        "\n",
        "compare_positions(ref_boxes, test_boxes)"
      ],
      "metadata": {
        "colab": {
          "base_uri": "https://localhost:8080/"
        },
        "id": "r6C-_9SjKINK",
        "outputId": "b4b24d55-6a97-4eb7-c3d5-0b1ddd90d949"
      },
      "execution_count": 34,
      "outputs": [
        {
          "output_type": "stream",
          "name": "stdout",
          "text": [
            "❌ Keyword 'goods' not found in test image.\n"
          ]
        },
        {
          "output_type": "execute_result",
          "data": {
            "text/plain": [
              "False"
            ]
          },
          "metadata": {},
          "execution_count": 34
        }
      ]
    },
    {
      "cell_type": "code",
      "source": [
        "# Convert to JPEG (one-time)\n",
        "im = Image.open(\"/content/1.webp\")\n",
        "im.convert(\"RGB\").save(\"/content/1_converted.jpg\", \"JPEG\")\n",
        "test_img_path = \"/content/1_converted.jpg\""
      ],
      "metadata": {
        "id": "J_5stZUuPf5U"
      },
      "execution_count": 28,
      "outputs": []
    },
    {
      "cell_type": "code",
      "source": [
        "ref_img_path = \"/content/WhatsApp Image 2025-05-30 at 15.27.00.jpeg\"\n",
        "\n",
        "ref_img, ref_thresh = preprocess(ref_img_path)\n",
        "test_img, test_thresh = preprocess(test_img_path)\n",
        "\n",
        "ref_boxes = extract_signature_keywords(ref_thresh)\n",
        "test_boxes = extract_signature_keywords(test_thresh)\n",
        "\n",
        "compare_positions(ref_boxes, test_boxes)"
      ],
      "metadata": {
        "colab": {
          "base_uri": "https://localhost:8080/"
        },
        "id": "JPhuZ_NuNkI6",
        "outputId": "9f9d8cba-ff7d-4930-f373-e3cefe3b59be"
      },
      "execution_count": 32,
      "outputs": [
        {
          "output_type": "stream",
          "name": "stdout",
          "text": [
            "✅ All key signature elements are aligned correctly.\n"
          ]
        },
        {
          "output_type": "execute_result",
          "data": {
            "text/plain": [
              "True"
            ]
          },
          "metadata": {},
          "execution_count": 32
        }
      ]
    },
    {
      "cell_type": "code",
      "source": [],
      "metadata": {
        "id": "SlPWBtR6NxpI"
      },
      "execution_count": null,
      "outputs": []
    }
  ]
}